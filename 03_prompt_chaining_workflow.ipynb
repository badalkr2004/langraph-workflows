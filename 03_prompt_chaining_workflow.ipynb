{
 "cells": [
  {
   "cell_type": "code",
   "execution_count": 1,
   "id": "1705e33a",
   "metadata": {},
   "outputs": [],
   "source": [
    "from langchain_google_genai import ChatGoogleGenerativeAI\n",
    "from langgraph.graph import StateGraph, START, END\n",
    "from typing import TypedDict\n",
    "from dotenv import load_dotenv"
   ]
  },
  {
   "cell_type": "code",
   "execution_count": 2,
   "id": "c451e8f1",
   "metadata": {},
   "outputs": [
    {
     "data": {
      "text/plain": [
       "True"
      ]
     },
     "execution_count": 2,
     "metadata": {},
     "output_type": "execute_result"
    }
   ],
   "source": [
    "load_dotenv()"
   ]
  },
  {
   "cell_type": "code",
   "execution_count": 3,
   "id": "c449a6a5",
   "metadata": {},
   "outputs": [],
   "source": [
    "model = ChatGoogleGenerativeAI(model=\"gemini-2.5-flash\")"
   ]
  },
  {
   "cell_type": "code",
   "execution_count": 20,
   "id": "f1c1889c",
   "metadata": {},
   "outputs": [],
   "source": [
    "class BlogState(TypedDict):\n",
    "    topic: str\n",
    "    outline: str\n",
    "    content: str\n",
    "    scorebyAi: str"
   ]
  },
  {
   "cell_type": "code",
   "execution_count": 19,
   "id": "85ca046c",
   "metadata": {},
   "outputs": [],
   "source": [
    "def create_outline(state: BlogState) -> BlogState:\n",
    "    \n",
    "    # Extract the topic from the state\n",
    "    topic = state[\"topic\"]\n",
    "\n",
    "    # Create a prompt for the model\n",
    "    prompt = f\"Create a detailed outline for a blog post about {topic}.\"\n",
    "\n",
    "    # Get the outline from the model\n",
    "    outline = model.invoke(prompt).content\n",
    "\n",
    "    # Update the state with the generated outline\n",
    "    state[\"outline\"] = str(outline)\n",
    "\n",
    "    return state\n",
    "\n",
    "def create_blog_content(state: BlogState) -> BlogState:\n",
    "    # Extract the outline from the state\n",
    "    outline = state[\"outline\"]\n",
    "\n",
    "    # Create a prompt for the model\n",
    "    prompt = f\"Write a detailed blog post based on the following outline:\\n{outline}\"\n",
    "\n",
    "    # Get the blog content from the model\n",
    "    content = model.invoke(prompt).content\n",
    "\n",
    "    # Update the state with the generated content\n",
    "    state[\"content\"] = str(content)\n",
    "\n",
    "    return state\n",
    "\n",
    "def rate_blog(state:BlogState)-> BlogState:\n",
    "    # Extract the blog content\n",
    "    blog_content = state[\"content\"]\n",
    "    blog_outline = state[\"outline\"]\n",
    "\n",
    "    # Create the prompt\n",
    "    prompt = f\"\"\" \n",
    "    Rate the blog by analyzing the oultline and the content.\n",
    "    Give a score from 1 to 10, where 1 is the lowest and\n",
    "    10 is the highest. Provide only the score as an integer.\n",
    "\n",
    "    Outline: {blog_outline}\n",
    "    Content: {blog_content}\n",
    "\n",
    "    \"\"\"\n",
    "\n",
    "    # Get the score from the model\n",
    "    score = model.invoke(prompt).content\n",
    "    state[\"scorebyAi\"] = str(score)\n",
    "    return state\n"
   ]
  },
  {
   "cell_type": "code",
   "execution_count": 21,
   "id": "b81cfcc8",
   "metadata": {},
   "outputs": [],
   "source": [
    "graph = StateGraph(BlogState)\n",
    "\n",
    "# define the nodes\n",
    "graph.add_node(\"create_outline\",create_outline)\n",
    "graph.add_node(\"create_blog_content\",create_blog_content)\n",
    "graph.add_node(\"rate_blog\", rate_blog)\n",
    "# define the edges\n",
    "\n",
    "graph.add_edge(START, \"create_outline\")\n",
    "graph.add_edge(\"create_outline\", \"create_blog_content\")\n",
    "graph.add_edge(\"create_blog_content\", \"rate_blog\")\n",
    "graph.add_edge(\"rate_blog\", END)\n",
    "\n",
    "\n",
    "# compile the graph\n",
    "workflow = graph.compile()"
   ]
  },
  {
   "cell_type": "code",
   "execution_count": 22,
   "id": "5cf496f6",
   "metadata": {},
   "outputs": [
    {
     "name": "stdout",
     "output_type": "stream",
     "text": [
      "{'topic': 'let var and const in javascript', 'outline': 'Here\\'s a detailed outline for a blog post about `let`, `var`, and `const` in JavaScript, designed to be comprehensive and easy to understand for developers of all levels.\\n\\n---\\n\\n## Blog Post Outline: Demystifying JavaScript Variables: `let`, `var`, and `const` Explained\\n\\n**Target Audience:** Junior to mid-level JavaScript developers, or anyone looking for a clear understanding of variable declarations in modern JS.\\n\\n**Goal:** To clearly explain the differences between `var`, `let`, and `const`, including scope, hoisting, and re-declaration/re-assignment, and to provide best practices for their use.\\n\\n---\\n\\n### I. Title Options (Choose one)\\n\\n*   The Definitive Guide to `let`, `var`, and `const` in JavaScript\\n*   Beyond `var`: Understanding `let` and `const` for Modern JavaScript\\n*   Mastering JavaScript Variables: A Deep Dive into `let`, `var`, and `const`\\n*   JavaScript Variables Explained: Scope, Hoisting, and the `let`/`const` Revolution\\n\\n### II. Introduction\\n\\n*   **A. The Problem/Hook:**\\n    *   \"Confused by `var`, `let`, and `const`? You\\'re not alone!\"\\n    *   Highlight the importance of understanding these keywords for writing robust, predictable, and bug-free JavaScript.\\n    *   Briefly mention the evolution: `var` (the old way), `let`/`const` (ES6+ solutions).\\n*   **B. What You\\'ll Learn:**\\n    *   A clear breakdown of each keyword.\\n    *   Key concepts: Scope (Global, Function, Block), Hoisting, Temporal Dead Zone (TDZ).\\n    *   Practical examples for each.\\n    *   Best practices and modern recommendations.\\n\\n### III. The Old Guard: `var`\\n\\n*   **A. Introduction to `var`:**\\n    *   The original way to declare variables in JavaScript (pre-ES6).\\n    *   Still valid, but often discouraged in new code.\\n*   **B. `var` and Scope: Function Scope (or Global)**\\n    *   **Explanation:** Variables declared with `var` are scoped to the nearest *function* block, or globally if declared outside any function.\\n    *   **Example 1 (Function Scope):**\\n        ```javascript\\n        function greet() {\\n            var message = \"Hello from var!\";\\n            console.log(message); // \"Hello from var!\"\\n        }\\n        greet();\\n        // console.log(message); // ReferenceError: message is not defined\\n        ```\\n    *   **Example 2 (Global Scope):**\\n        ```javascript\\n        var globalVar = \"I\\'m global!\";\\n        if (true) {\\n            var inBlockVar = \"I\\'m also global-ish!\";\\n        }\\n        console.log(globalVar);     // \"I\\'m global!\"\\n        console.log(inBlockVar);    // \"I\\'m also global-ish!\" (Surprise!)\\n        ```\\n        *   *Highlight:* This \"leakage\" from block to global/function scope is a major pitfall.\\n*   **C. `var` and Hoisting:**\\n    *   **Explanation:** `var` declarations are \"hoisted\" to the top of their scope (function or global) during the compilation phase. They are also *initialized* with `undefined`.\\n    *   **Example:**\\n        ```javascript\\n        console.log(hoistedVar); // undefined (not ReferenceError)\\n        var hoistedVar = \"I was hoisted!\";\\n        console.log(hoistedVar); // \"I was hoisted!\"\\n        ```\\n        *   *Contrast:* Show what it *looks like* after hoisting:\\n            ```javascript\\n            var hoistedVar; // declaration hoisted and initialized to undefined\\n            console.log(hoistedVar);\\n            hoistedVar = \"I was hoisted!\"; // assignment stays in place\\n            console.log(hoistedVar);\\n            ```\\n*   **D. `var` and Re-declaration/Re-assignment:**\\n    *   **Explanation:** `var` allows both re-declaration and re-assignment within the same scope without error.\\n    *   **Example:**\\n        ```javascript\\n        var myName = \"Alice\";\\n        console.log(myName); // \"Alice\"\\n\\n        var myName = \"Bob\"; // Re-declaration (allowed!)\\n        console.log(myName); // \"Bob\"\\n\\n        myName = \"Charlie\"; // Re-assignment (allowed!)\\n        console.log(myName); // \"Charlie\"\\n        ```\\n        *   *Highlight:* This can lead to accidental overwriting of variables, causing subtle bugs.\\n*   **E. Why `var` is Problematic (Summary):**\\n    *   Lack of block scope can lead to variable \"leaks\" and unexpected behavior (especially in loops or conditional blocks).\\n    *   Hoisting with `undefined` initialization can mask bugs.\\n    *   Permitting re-declaration makes code harder to reason about and prone to errors.\\n\\n### IV. The Modern Approach: `let` and `const` (ES6+)\\n\\n*   **A. Introduction to `let` and `const`:**\\n    *   Introduced in ECMAScript 2015 (ES6) to address `var`\\'s shortcomings.\\n    *   The preferred way to declare variables in modern JavaScript.\\n    *   Key shared feature: **Block Scope**.\\n*   **B. Understanding Block Scope:**\\n    *   **Explanation:** Variables declared with `let` or `const` are scoped to the nearest *block* (`{ }`). This includes `if` statements, `for` loops, `while` loops, and standalone blocks.\\n    *   **Example:**\\n        ```javascript\\n        let blockScopedVar = \"I\\'m outside the block\";\\n        if (true) {\\n            let innerVar = \"I\\'m inside the block\";\\n            console.log(blockScopedVar); // Access outer scope: \"I\\'m outside the block\"\\n            console.log(innerVar);       // Access inner scope: \"I\\'m inside the block\"\\n        }\\n        // console.log(innerVar); // ReferenceError: innerVar is not defined (Correct!)\\n        ```\\n        *   *Contrast with `var`:* Show how `var` would behave differently in the same block.\\n\\n### V. Deep Dive: `let`\\n\\n*   **A. `let` and Scope: Block Scope**\\n    *   (Reiterate and use an example if not covered sufficiently above, e.g., a `for` loop)\\n    *   **Example (Loop):**\\n        ```javascript\\n        for (let i = 0; i < 3; i++) {\\n            console.log(i); // 0, 1, 2\\n        }\\n        // console.log(i); // ReferenceError: i is not defined (Correct!)\\n        ```\\n*   **B. `let` and Hoisting: The Temporal Dead Zone (TDZ)**\\n    *   **Explanation:** `let` declarations *are* hoisted, but they are *not initialized*. They remain in a \"Temporal Dead Zone\" (TDZ) from the start of their block until their declaration is encountered. Accessing them before declaration results in a `ReferenceError`.\\n    *   **Example:**\\n        ```javascript\\n        // console.log(tdzVar); // ReferenceError: Cannot access \\'tdzVar\\' before initialization\\n        let tdzVar = \"I\\'m out of the TDZ!\";\\n        console.log(tdzVar); // \"I\\'m out of the TDZ!\"\\n        ```\\n        *   *Why this is good:* Prevents accidental use of uninitialized variables.\\n*   **C. `let` and Re-declaration/Re-assignment:**\\n    *   **Re-declaration:** NOT allowed within the same scope.\\n        ```javascript\\n        let item = \"apple\";\\n        // let item = \"orange\"; // SyntaxError: Identifier \\'item\\' has already been declared\\n        ```\\n    *   **Re-assignment:** Allowed.\\n        ```javascript\\n        let count = 10;\\n        console.log(count); // 10\\n        count = 20;         // Re-assignment allowed\\n        console.log(count); // 20\\n        ```\\n*   **D. When to use `let`:**\\n    *   When you need a variable whose value might change *within its block scope*.\\n    *   Common for loop counters, variables that are updated based on conditions, etc.\\n\\n### VI. Deep Dive: `const`\\n\\n*   **A. `const` and Scope: Block Scope**\\n    *   (Same as `let`)\\n    *   **Example:**\\n        ```javascript\\n        const PI = 3.14159;\\n        if (true) {\\n            const GRAVITY = 9.81;\\n            console.log(PI);     // 3.14159\\n            console.log(GRAVITY); // 9.81\\n        }\\n        // console.log(GRAVITY); // ReferenceError: GRAVITY is not defined\\n        ```\\n*   **B. `const` and Hoisting: The Temporal Dead Zone (TDZ)**\\n    *   (Same as `let`)\\n    *   **Explanation:** `const` declarations are also hoisted and subject to the TDZ. Must be declared before access.\\n    *   **Example:**\\n        ```javascript\\n        // console.log(constantVal); // ReferenceError: Cannot access \\'constantVal\\' before initialization\\n        const constantVal = \"I\\'m a constant!\";\\n        console.log(constantVal); // \"I\\'m a constant!\"\\n        ```\\n*   **C. `const` and Re-declaration/Re-assignment:**\\n    *   **Re-declaration:** NOT allowed within the same scope.\\n        ```javascript\\n        const MAX_ATTEMPTS = 3;\\n        // const MAX_ATTEMPTS = 5; // SyntaxError: Identifier \\'MAX_ATTEMPTS\\' has already been declared\\n        ```\\n    *   **Re-assignment:** NOT allowed for primitive values.\\n        ```javascript\\n        const userName = \"Alice\";\\n        // userName = \"Bob\"; // TypeError: Assignment to constant variable.\\n        ```\\n    *   **Crucial Nuance: `const` with Objects and Arrays:**\\n        *   **Explanation:** `const` prevents re-assignment of the *binding* itself, not the *value* it holds for non-primitive types (objects, arrays). You *can* modify the properties of a `const` object or elements of a `const` array.\\n        *   **Example 1 (Object):**\\n            ```javascript\\n            const user = { name: \"Alice\", age: 30 };\\n            user.age = 31; // Allowed!\\n            console.log(user); // { name: \"Alice\", age: 31 }\\n            // user = { name: \"Bob\", age: 25 }; // TypeError: Assignment to constant variable. (Not allowed!)\\n            ```\\n        *   **Example 2 (Array):**\\n            ```javascript\\n            const colors = [\"red\", \"green\"];\\n            colors.push(\"blue\"); // Allowed!\\n            console.log(colors); // [\"red\", \"green\", \"blue\"]\\n            // colors = [\"yellow\", \"purple\"]; // TypeError: Assignment to constant variable. (Not allowed!)\\n            ```\\n            *   *Key Takeaway:* `const` means the *reference* is constant.\\n*   **D. `const` and Initialization:**\\n    *   **Explanation:** `const` variables *must* be initialized at the time of declaration.\\n    *   **Example:**\\n        ```javascript\\n        // const uninitialized; // SyntaxError: Missing initializer in const declaration\\n        const initialized = 100; // Correct\\n        ```\\n*   **E. When to use `const`:**\\n    *   When you have a value that should *never* be re-assigned (e.g., configuration values, imported modules, DOM elements, or object/array references that shouldn\\'t change).\\n    *   **Rule of thumb:** Prefer `const` by default.\\n\\n### VII. Comparison Table (Quick Reference)\\n\\n| Feature             | `var`                         | `let`                         | `const`                            |\\n| :------------------ | :---------------------------- | :---------------------------- | :--------------------------------- |\\n| **Scope**           | Function-scoped (or Global)   | Block-scoped                  | Block-scoped                       |\\n| **Hoisting**        | Yes, initialized to `undefined` | Yes, but in TDZ (no init)     | Yes, but in TDZ (no init)          |\\n| **Re-declaration**  | Yes                           | No                            | No                                 |\\n| **Re-assignment**   | Yes                           | Yes                           | No (for primitives); Yes (for properties of objects/arrays) |\\n| **Initialization**  | Optional                      | Optional                      | Required                           |\\n| **Common Pitfalls** | Variable leaks, global pollution, accidental overwrites | TDZ `ReferenceError` (less common) | `TypeError` on re-assignment, misunderstanding object mutation |\\n\\n### VIII. Best Practices & Recommendations\\n\\n*   **A. Prioritize `const`:**\\n    *   Start with `const` for every variable declaration. If you find you need to re-assign the variable later, then change it to `let`.\\n    *   This makes your code more predictable and prevents accidental re-assignments.\\n*   **B. Use `let` Sparingly:**\\n    *   Only use `let` when you genuinely expect the variable\\'s value to change.\\n*   **C. Avoid `var`:**\\n    *   Unless you are working with legacy code that absolutely requires it, or in very specific browser environments that don\\'t support ES6 (which are rare now).\\n    *   `let` and `const` solve the major issues `var` presented.\\n*   **D. Linting Tools:**\\n    *   Mention how linters (ESLint, Prettier) can help enforce these best practices automatically.\\n\\n### IX. Conclusion\\n\\n*   **A. Recap Key Differences:**\\n    *   `var`: Function-scoped, hoisted and initialized to `undefined`, allows re-declaration/re-assignment (mostly avoided now).\\n    *   `let`: Block-scoped, hoisted but in TDZ, allows re-assignment but not re-declaration.\\n    *   `const`: Block-scoped, hoisted but in TDZ, requires initialization, prevents re-assignment of the binding (but allows mutation of object properties).\\n*   **B. Reinforce Modern Approach:**\\n    *   Emphasize that `let` and `const` lead to clearer, safer, and more maintainable JavaScript code.\\n*   **C. Call to Action:**\\n    *   \"Go forth and declare your variables wisely!\"\\n    *   Encourage readers to experiment with the examples.\\n    *   Ask for comments, questions, or their own best practices.\\n\\n---', 'content': '## Mastering JavaScript Variables: A Deep Dive into `let`, `var`, and `const`\\n\\nConfused by `var`, `let`, and `const`? You\\'re definitely not alone! These three keywords are fundamental to declaring variables in JavaScript, but their subtle (and sometimes not-so-subtle) differences can be a source of frustration and unexpected bugs for many developers.\\n\\nUnderstanding how `var`, `let`, and `const` behave is crucial for writing robust, predictable, and bug-free JavaScript code. While `var` was the original way, the introduction of `let` and `const` in ES6 (ECMAScript 2015) revolutionized variable declaration, providing much-needed clarity and control.\\n\\nIn this comprehensive guide, we\\'ll demystify JavaScript variables. You\\'ll learn:\\n\\n*   A clear breakdown of each keyword: `var`, `let`, and `const`.\\n*   Key concepts like **Scope** (Global, Function, Block), **Hoisting**, and the **Temporal Dead Zone (TDZ)**.\\n*   Practical examples to illustrate how each keyword behaves in real-world scenarios.\\n*   Best practices and modern recommendations for their use.\\n\\nLet\\'s dive in!\\n\\n---\\n\\n### The Old Guard: `var`\\n\\n`var` is the original way to declare variables in JavaScript, existing since the language\\'s inception. While still perfectly valid JavaScript, it\\'s generally discouraged in new code due to some surprising behaviors that `let` and `const` were specifically designed to fix.\\n\\n#### `var` and Scope: Function Scope (or Global)\\n\\nOne of the most significant characteristics of `var` is its scoping behavior. Variables declared with `var` are **function-scoped**. This means they are accessible anywhere within the function they are declared in. If declared outside any function, they become **global-scoped**, accessible throughout the entire script.\\n\\nCrucially, `var` does *not* respect block scope (`{ }`) like `if` statements or `for` loops. This can lead to unexpected \"leakage.\"\\n\\n**Example 1 (Function Scope):**\\n\\n```javascript\\nfunction greet() {\\n    var message = \"Hello from var!\";\\n    console.log(message); // \"Hello from var!\"\\n}\\ngreet();\\n// console.log(message); // ReferenceError: message is not defined\\n// \\'message\\' is confined to the \\'greet\\' function.\\n```\\n\\n**Example 2 (Global Scope and Leakage):**\\n\\n```javascript\\nvar globalVar = \"I\\'m global!\";\\n\\nif (true) {\\n    var inBlockVar = \"I\\'m also global-ish!\"; // Declared inside a block\\n    console.log(globalVar); // \"I\\'m global!\"\\n}\\n\\nconsole.log(globalVar);     // \"I\\'m global!\"\\nconsole.log(inBlockVar);    // \"I\\'m also global-ish!\" (Surprise! \\'inBlockVar\\' leaked out of the if block)\\n```\\n\\n**Highlight:** This \"leakage\" from a block (like an `if` statement or `for` loop) into the global or surrounding function scope is a major pitfall of `var`. It can lead to variables unintentionally overwriting others or being accessible where they shouldn\\'t, causing hard-to-trace bugs.\\n\\n#### `var` and Hoisting\\n\\n`var` declarations are \"hoisted\" to the top of their containing scope (either the function or global scope) during JavaScript\\'s compilation phase. What\\'s more, they are also **initialized with `undefined`** at this stage.\\n\\n**Example:**\\n\\n```javascript\\nconsole.log(hoistedVar); // undefined (not a ReferenceError!)\\nvar hoistedVar = \"I was hoisted!\";\\nconsole.log(hoistedVar); // \"I was hoisted!\"\\n```\\n\\nTo better understand what\\'s happening, this is conceptually how the JavaScript engine processes the code above:\\n\\n```javascript\\nvar hoistedVar;          // Declaration hoisted and initialized to undefined\\nconsole.log(hoistedVar); // Logs \\'undefined\\'\\nhoistedVar = \"I was hoisted!\"; // Assignment stays in place\\nconsole.log(hoistedVar); // Logs \"I was hoisted!\"\\n```\\n\\nWhile hoisting itself isn\\'t inherently bad, `var`\\'s combination of hoisting *and* initialization to `undefined` can mask bugs, as you might accidentally use a variable before it\\'s been explicitly assigned a meaningful value, leading to unexpected `undefined`s in your logic.\\n\\n#### `var` and Re-declaration/Re-assignment\\n\\n`var` is very permissive when it comes to re-declaring and re-assigning variables within the same scope.\\n\\n**Example:**\\n\\n```javascript\\nvar myName = \"Alice\";\\nconsole.log(myName); // \"Alice\"\\n\\nvar myName = \"Bob\"; // Re-declaration (allowed, and overwrites \\'Alice\\'!)\\nconsole.log(myName); // \"Bob\"\\n\\nmyName = \"Charlie\"; // Re-assignment (allowed!)\\nconsole.log(myName); // \"Charlie\"\\n```\\n\\n**Highlight:** The ability to re-declare a `var` variable without error can lead to accidental overwriting of variables, especially in larger codebases or when working with global variables. This makes code harder to reason about and more prone to subtle, difficult-to-diagnose bugs.\\n\\n#### Why `var` is Problematic (Summary):\\n\\n*   **Lack of block scope:** Leads to variable \"leaks\" and unexpected behavior, especially within loops or conditional blocks.\\n*   **Hoisting with `undefined` initialization:** Can mask bugs by allowing variables to be accessed before their intended assignment.\\n*   **Permitting re-declaration:** Makes code harder to reason about, increases the risk of accidental overwrites, and can create subtle bugs.\\n\\n---\\n\\n### The Modern Approach: `let` and `const` (ES6+)\\n\\nTo address the shortcomings of `var`, ECMAScript 2015 (ES6) introduced two new keywords for variable declaration: `let` and `const`. These are now the preferred way to declare variables in modern JavaScript, offering more predictable and safer behavior.\\n\\nA key shared feature of both `let` and `const` is their respect for **Block Scope**.\\n\\n#### Understanding Block Scope\\n\\nVariables declared with `let` or `const` are **block-scoped**. This means they are confined to the nearest enclosing block, defined by curly braces `{ }`. This includes:\\n\\n*   `if` statements\\n*   `for` loops\\n*   `while` loops\\n*   `switch` statements\\n*   Standalone blocks (e.g., `{ let x = 10; }`)\\n\\n**Example:**\\n\\n```javascript\\nlet blockScopedVar = \"I\\'m outside the block\";\\n\\nif (true) {\\n    let innerVar = \"I\\'m inside the block\";\\n    console.log(blockScopedVar); // Access outer scope: \"I\\'m outside the block\"\\n    console.log(innerVar);       // Access inner scope: \"I\\'m inside the block\"\\n}\\n\\n// console.log(innerVar); // ReferenceError: innerVar is not defined (Correct behavior!)\\n// \\'innerVar\\' is confined to the \\'if\\' block.\\n```\\n\\n**Contrast with `var`:** If `innerVar` had been declared with `var`, it would have \"leaked\" out of the `if` block and been accessible afterwards, potentially causing issues. `let` and `const` prevent this, making your code\\'s variable access much more controlled and predictable.\\n\\n---\\n\\n### Deep Dive: `let`\\n\\n`let` allows you to declare variables that are **block-scoped** and can be **re-assigned**, but not re-declared, within the same scope.\\n\\n#### `let` and Scope: Block Scope\\n\\nAs discussed, `let` variables are block-scoped. This is particularly useful in loops:\\n\\n**Example (Loop):**\\n\\n```javascript\\nfor (let i = 0; i < 3; i++) {\\n    console.log(i); // Logs 0, 1, 2\\n}\\n// console.log(i); // ReferenceError: i is not defined (Correct!)\\n// \\'i\\' is confined to the \\'for\\' loop block.\\n```\\n\\nThis prevents the loop counter `i` from leaking into the surrounding scope, a common source of bugs with `var` in older JavaScript.\\n\\n#### `let` and Hoisting: The Temporal Dead Zone (TDZ)\\n\\nLike `var`, `let` declarations *are* hoisted to the top of their block scope. However, unlike `var`, they are **not initialized** with `undefined`. Instead, they enter a state called the **Temporal Dead Zone (TDZ)** from the start of their block until their actual declaration line is executed.\\n\\nAccessing a `let` variable within its TDZ will result in a `ReferenceError`.\\n\\n**Example:**\\n\\n```javascript\\n// console.log(tdzVar); // ReferenceError: Cannot access \\'tdzVar\\' before initialization\\nlet tdzVar = \"I\\'m out of the TDZ!\";\\nconsole.log(tdzVar); // \"I\\'m out of the TDZ!\"\\n```\\n\\n**Why this is good:** The TDZ makes your code safer by preventing accidental use of uninitialized variables. If you try to use `tdzVar` before its declaration, JavaScript immediately tells you there\\'s a problem, rather than silently giving you `undefined`.\\n\\n#### `let` and Re-declaration/Re-assignment\\n\\n*   **Re-declaration:** `let` **does NOT allow** re-declaration within the same scope. This prevents accidental overwrites that were common with `var`.\\n\\n    ```javascript\\n    let item = \"apple\";\\n    // let item = \"orange\"; // SyntaxError: Identifier \\'item\\' has already been declared\\n    ```\\n\\n*   **Re-assignment:** `let` **DOES allow** re-assignment. You can change the value of a `let` variable after it\\'s been declared.\\n\\n    ```javascript\\n    let count = 10;\\n    console.log(count); // 10\\n    count = 20;         // Re-assignment allowed\\n    console.log(count); // 20\\n    ```\\n\\n#### When to use `let`\\n\\nUse `let` when you need a variable whose value might **change** (be re-assigned) *within its block scope*. This is common for:\\n\\n*   Loop counters (`for (let i = 0; ...)`)\\n*   Variables that are updated based on conditions or user input.\\n*   Any variable whose value needs to be flexible throughout its lifetime in a specific block.\\n\\n---\\n\\n### Deep Dive: `const`\\n\\n`const` (short for \"constant\") is the most restrictive of the three keywords. It allows you to declare variables that are **block-scoped**, subject to the **Temporal Dead Zone**, and **cannot be re-assigned** after their initial declaration. They also **must be initialized** at the time of declaration.\\n\\n#### `const` and Scope: Block Scope\\n\\nLike `let`, `const` variables are block-scoped.\\n\\n**Example:**\\n\\n```javascript\\nconst PI = 3.14159; // Global constant\\n\\nif (true) {\\n    const GRAVITY = 9.81; // Block-scoped constant\\n    console.log(PI);     // 3.14159 (accessible from outer scope)\\n    console.log(GRAVITY); // 9.81 (accessible within its block)\\n}\\n\\n// console.log(GRAVITY); // ReferenceError: GRAVITY is not defined\\n// \\'GRAVITY\\' is confined to the \\'if\\' block.\\n```\\n\\n#### `const` and Hoisting: The Temporal Dead Zone (TDZ)\\n\\nJust like `let`, `const` declarations are hoisted but are placed in the Temporal Dead Zone until their declaration is processed. You cannot access a `const` variable before its declaration.\\n\\n**Example:**\\n\\n```javascript\\n// console.log(constantVal); // ReferenceError: Cannot access \\'constantVal\\' before initialization\\nconst constantVal = \"I\\'m a constant!\";\\nconsole.log(constantVal); // \"I\\'m a constant!\"\\n```\\n\\n#### `const` and Re-declaration/Re-assignment\\n\\n*   **Re-declaration:** `const` **does NOT allow** re-declaration within the same scope.\\n\\n    ```javascript\\n    const MAX_ATTEMPTS = 3;\\n    // const MAX_ATTEMPTS = 5; // SyntaxError: Identifier \\'MAX_ATTEMPTS\\' has already been declared\\n    ```\\n\\n*   **Re-assignment:** `const` **does NOT allow** re-assignment for primitive values (strings, numbers, booleans, null, undefined, symbols, bigints).\\n\\n    ```javascript\\n    const userName = \"Alice\";\\n    // userName = \"Bob\"; // TypeError: Assignment to constant variable. (Not allowed!)\\n    ```\\n\\n#### Crucial Nuance: `const` with Objects and Arrays\\n\\nThis is where `const` can be tricky and often misunderstood. `const` prevents re-assignment of the *binding* itself (meaning you can\\'t point the variable to a *new* value or object). However, for non-primitive types (objects and arrays), it **does not prevent mutation of the value\\'s properties or elements.**\\n\\n**Example 1 (Object):**\\n\\n```javascript\\nconst user = { name: \"Alice\", age: 30 };\\n\\nuser.age = 31; // Allowed! You can modify properties of the object\\nconsole.log(user); // { name: \"Alice\", age: 31 }\\n\\n// user = { name: \"Bob\", age: 25 }; // TypeError: Assignment to constant variable. (Not allowed!)\\n// You cannot re-assign \\'user\\' to a completely new object.\\n```\\n\\n**Example 2 (Array):**\\n\\n```javascript\\nconst colors = [\"red\", \"green\"];\\n\\ncolors.push(\"blue\"); // Allowed! You can add/remove elements from the array\\nconsole.log(colors); // [\"red\", \"green\", \"blue\"]\\n\\n// colors = [\"yellow\", \"purple\"]; // TypeError: Assignment to constant variable. (Not allowed!)\\n// You cannot re-assign \\'colors\\' to a completely new array.\\n```\\n\\n**Key Takeaway:** `const` means the *reference* to the object or array is constant. The variable will always point to the *same* object or array in memory, but the *contents* of that object or array can still be changed. If you need a truly immutable object, you\\'d need additional techniques (e.g., `Object.freeze()`).\\n\\n#### `const` and Initialization\\n\\n`const` variables **must be initialized** at the time of declaration. You cannot declare a `const` variable without assigning it a value.\\n\\n**Example:**\\n\\n```javascript\\n// const uninitialized; // SyntaxError: Missing initializer in const declaration\\nconst initialized = 100; // Correct\\n```\\n\\n#### When to use `const`\\n\\nUse `const` when you have a value that should **never be re-assigned**. This is the default choice for modern JavaScript development. Examples include:\\n\\n*   Configuration values (e.g., `const API_KEY = \"xyz\"`).\\n*   Imported modules (e.g., `const React = require(\\'react\\')`).\\n*   DOM elements once selected (e.g., `const button = document.getElementById(\\'myButton\\')`).\\n*   Object or array references that should not be changed to point to a different object/array.\\n\\n**Rule of thumb:** Prefer `const` by default. It makes your code more predictable and prevents accidental re-assignments.\\n\\n---\\n\\n### Comparison Table (Quick Reference)\\n\\n| Feature             | `var`                         | `let`                         | `const`                            |\\n| :------------------ | :---------------------------- | :---------------------------- | :--------------------------------- |\\n| **Scope**           | Function-scoped (or Global)   | Block-scoped                  | Block-scoped                       |\\n| **Hoisting**        | Yes, initialized to `undefined` | Yes, but in TDZ (no init)     | Yes, but in TDZ (no init)          |\\n| **Re-declaration**  | Yes                           | No                            | No                                 |\\n| **Re-assignment**   | Yes                           | Yes                           | No (for primitives); Yes (for properties of objects/arrays) |\\n| **Initialization**  | Optional                      | Optional                      | Required                           |\\n| **Common Pitfalls** | Variable leaks, global pollution, accidental overwrites | TDZ `ReferenceError` (less common) | `TypeError` on re-assignment, misunderstanding object mutation |\\n\\n---\\n\\n### Best Practices & Recommendations\\n\\nWith `let` and `const` at our disposal, modern JavaScript development has a clear path forward for variable declarations.\\n\\n1.  **Prioritize `const`:**\\n    *   **Start with `const` for every variable declaration.** This is the golden rule. It forces you to think about whether a variable\\'s value truly needs to change.\\n    *   If you later find that you *must* re-assign the variable (not just mutate its properties), then change it to `let`. This makes your code more predictable and prevents accidental re-assignments, leading to fewer bugs.\\n\\n2.  **Use `let` Sparingly:**\\n    *   Only use `let` when you genuinely expect the variable\\'s value to be re-assigned *within its block scope*. If the value never changes, `const` is the better choice.\\n\\n3.  **Avoid `var`:**\\n    *   Unless you are working with legacy code that absolutely requires it, or in very specific browser environments that don\\'t support ES6 (which are extremely rare now), **do not use `var` in new JavaScript code.**\\n    *   `let` and `const` effectively solve all the major issues and surprises that `var` presented.\\n\\n4.  **Linting Tools:**\\n    *   Leverage linting tools like **ESLint** (often combined with Prettier) in your development workflow. Linters can automatically enforce these best practices, identifying `var` usage or suggesting `const` where `let` isn\\'t strictly necessary, helping you maintain consistent and high-quality code.\\n\\n---\\n\\n### Conclusion\\n\\nCongratulations! You\\'ve taken a deep dive into the world of JavaScript variable declarations. Let\\'s quickly recap the key differences:\\n\\n*   `var`: The old way. **Function-scoped**, hoisted and initialized to `undefined`, allows both re-declaration and re-assignment. Mostly avoided now due to its unpredictable nature.\\n*   `let`: The modern, flexible choice. **Block-scoped**, hoisted but in the **Temporal Dead Zone**, allows re-assignment but not re-declaration. Use when a variable\\'s value needs to change.\\n*   `const`: The modern, strict choice. **Block-scoped**, hoisted but in the **Temporal Dead Zone**, requires initialization, and prevents re-assignment of the binding (though it allows mutation of object properties/array elements). Use by default for values that shouldn\\'t change.\\n\\nBy embracing `let` and `const`, you\\'re choosing to write clearer, safer, and more maintainable JavaScript code. These keywords provide explicit control over variable scope and mutability, dramatically reducing the likelihood of common bugs and making your programs more robust.\\n\\nNow, go forth and declare your variables wisely! Experiment with the examples provided, and feel free to share your thoughts, questions, or your own best practices in the comments below!', 'scorebyAi': '10'}\n"
     ]
    }
   ],
   "source": [
    "inital_state: BlogState = {\"topic\": \"let var and const in javascript\", \"outline\": \"\", \"content\": \"\",\"scorebyAi\":\"\"}\n",
    "final_state = workflow.invoke(inital_state)\n",
    "print(final_state)"
   ]
  },
  {
   "cell_type": "code",
   "execution_count": 23,
   "id": "744e15b2",
   "metadata": {},
   "outputs": [
    {
     "name": "stdout",
     "output_type": "stream",
     "text": [
      "10\n"
     ]
    }
   ],
   "source": [
    "print(final_state[\"scorebyAi\"])"
   ]
  }
 ],
 "metadata": {
  "kernelspec": {
   "display_name": ".venv",
   "language": "python",
   "name": "python3"
  },
  "language_info": {
   "codemirror_mode": {
    "name": "ipython",
    "version": 3
   },
   "file_extension": ".py",
   "mimetype": "text/x-python",
   "name": "python",
   "nbconvert_exporter": "python",
   "pygments_lexer": "ipython3",
   "version": "3.11.11"
  }
 },
 "nbformat": 4,
 "nbformat_minor": 5
}
