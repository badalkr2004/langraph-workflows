{
 "cells": [
  {
   "cell_type": "code",
   "execution_count": 7,
   "id": "d2eb007f",
   "metadata": {},
   "outputs": [
    {
     "data": {
      "text/plain": [
       "True"
      ]
     },
     "execution_count": 7,
     "metadata": {},
     "output_type": "execute_result"
    }
   ],
   "source": [
    "from langchain_google_genai import ChatGoogleGenerativeAI\n",
    "from langgraph.graph import StateGraph, START, END\n",
    "from typing import TypedDict\n",
    "from dotenv import load_dotenv\n",
    "load_dotenv()\n"
   ]
  },
  {
   "cell_type": "code",
   "execution_count": 10,
   "id": "4f61c4ac",
   "metadata": {},
   "outputs": [],
   "source": [
    "model =  ChatGoogleGenerativeAI(model=\"gemini-2.5-flash\")"
   ]
  },
  {
   "cell_type": "code",
   "execution_count": 16,
   "id": "298fc06e",
   "metadata": {},
   "outputs": [],
   "source": [
    "# create a state\n",
    "class LLMState(TypedDict):\n",
    "    question: str\n",
    "    answer: str"
   ]
  },
  {
   "cell_type": "code",
   "execution_count": 17,
   "id": "b41ee479",
   "metadata": {},
   "outputs": [],
   "source": [
    "def llm_qa(state: LLMState)->LLMState:\n",
    "\n",
    "    # extract the question\n",
    "    ques = state[\"question\"]\n",
    "\n",
    "    # form a prompt\n",
    "    prompt = f\"Answer the following question\\n{ques}\"\n",
    "\n",
    "    # ask the question form the llm model\n",
    "    ans = model.invoke(prompt).content\n",
    "\n",
    "    # update the state\n",
    "    state[\"answer\"] = str(ans)\n",
    "\n",
    "    return state"
   ]
  },
  {
   "cell_type": "code",
   "execution_count": 20,
   "id": "b9870c94",
   "metadata": {},
   "outputs": [],
   "source": [
    "# create a graph\n",
    "\n",
    "graph = StateGraph(LLMState)\n",
    "\n",
    "# add nodes\n",
    "graph.add_node(\"llm_qa\",llm_qa)\n",
    "\n",
    "# add edges\n",
    "\n",
    "graph.add_edge(START,\"llm_qa\")\n",
    "graph.add_edge(\"llm_qa\",END)\n",
    "\n",
    "# compile the graph\n",
    "workflow = graph.compile()\n",
    "\n",
    "\n"
   ]
  },
  {
   "cell_type": "code",
   "execution_count": null,
   "id": "2765c4b7",
   "metadata": {},
   "outputs": [
    {
     "name": "stdout",
     "output_type": "stream",
     "text": [
      "{'question': 'What is the capital of India?', 'answer': 'The capital of India is **New Delhi**.'}\n"
     ]
    }
   ],
   "source": [
    "inital_state: LLMState = {\"question\": \"What is langchain\", \"answer\": \"\"}\n",
    "final_state  = workflow.invoke(inital_state)\n",
    "print(final_state)"
   ]
  }
 ],
 "metadata": {
  "kernelspec": {
   "display_name": ".venv",
   "language": "python",
   "name": "python3"
  },
  "language_info": {
   "codemirror_mode": {
    "name": "ipython",
    "version": 3
   },
   "file_extension": ".py",
   "mimetype": "text/x-python",
   "name": "python",
   "nbconvert_exporter": "python",
   "pygments_lexer": "ipython3",
   "version": "3.11.11"
  }
 },
 "nbformat": 4,
 "nbformat_minor": 5
}
