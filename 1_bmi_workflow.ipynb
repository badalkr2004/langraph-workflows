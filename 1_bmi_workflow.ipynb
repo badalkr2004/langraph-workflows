{
 "cells": [
  {
   "cell_type": "code",
   "execution_count": 2,
   "id": "38087747",
   "metadata": {},
   "outputs": [],
   "source": [
    "from langgraph.graph import StateGraph, START, END\n",
    "from typing import TypedDict"
   ]
  },
  {
   "cell_type": "code",
   "execution_count": 26,
   "id": "4bf7f976",
   "metadata": {},
   "outputs": [],
   "source": [
    "# Define the state structure for BMI calculation\n",
    "\n",
    "class BMIState(TypedDict):\n",
    "    weight_kg: float\n",
    "    height_m: float\n",
    "    bmi: float\n",
    "    category: str"
   ]
  },
  {
   "cell_type": "code",
   "execution_count": 24,
   "id": "8f686849",
   "metadata": {},
   "outputs": [],
   "source": [
    "def calculate_bmi(state: BMIState) -> BMIState:\n",
    "    \"\"\"Calculate BMI given weight in kg and height in meters.\"\"\"\n",
    "    bmi = state['weight_kg'] / (state['height_m'] ** 2)\n",
    "    state['bmi'] = round(bmi,2)\n",
    "    return state\n",
    "\n",
    "def categorize_bmi(state: BMIState) -> BMIState:\n",
    "    \"\"\"Categorize BMI into standard categories.\"\"\"\n",
    "    bmi = state[\"bmi\"]\n",
    "\n",
    "    if bmi < 18.5:\n",
    "        state['category'] = \"Underweight\"\n",
    "\n",
    "    elif bmi < 25:\n",
    "        state['category'] = \"Normal Weight\"\n",
    "    \n",
    "    elif bmi < 30: \n",
    "        state[\"category\"] = \"Overweight\"\n",
    "    elif bmi < 35:\n",
    "        state[\"category\"] = \"Obesity (class I)\"\n",
    "\n",
    "    elif bmi < 40:\n",
    "        state[\"category\"] = \"Obesity (class II)\"\n",
    "    else:\n",
    "        state[\"category\"] = \"Extreme Obesity (class III)\"\n",
    "    return state\n",
    " "
   ]
  },
  {
   "cell_type": "code",
   "execution_count": 30,
   "id": "f04b66f6",
   "metadata": {},
   "outputs": [],
   "source": [
    "# Define the Graph\n",
    "\n",
    "graph = StateGraph(BMIState)\n",
    "\n",
    "# add nodes to the graph\n",
    "\n",
    "graph.add_node(\"calculate_bmi\",calculate_bmi)\n",
    "graph.add_node(\"categorize_bmi\",categorize_bmi)\n",
    "\n",
    "# add edges to the graph\n",
    "graph.add_edge(START, \"calculate_bmi\")\n",
    "graph.add_edge(\"calculate_bmi\",\"categorize_bmi\")\n",
    "graph.add_edge(\"categorize_bmi\", END)\n",
    "\n",
    "# compile the graph \n",
    "workflow = graph.compile()\n"
   ]
  },
  {
   "cell_type": "code",
   "execution_count": 31,
   "id": "26f8bb02",
   "metadata": {},
   "outputs": [
    {
     "name": "stdout",
     "output_type": "stream",
     "text": [
      "{'weight_kg': 58, 'height_m': 1.69, 'bmi': 20.31, 'category': 'Normal Weight'}\n"
     ]
    }
   ],
   "source": [
    "# execute the graph with initial state\n",
    "initial_state: BMIState = {\"weight_kg\": 58, \"height_m\": 1.69, \"bmi\": 0.0, \"category\": \"\"}\n",
    "final_state  = workflow.invoke(initial_state)\n",
    "print(final_state)"
   ]
  },
  {
   "cell_type": "code",
   "execution_count": 29,
   "id": "34b9e729",
   "metadata": {},
   "outputs": [
    {
     "data": {
      "image/png": "[encoded data removed]",
      "text/plain": [
       "<IPython.core.display.Image object>"
      ]
     },
     "execution_count": 29,
     "metadata": {},
     "output_type": "execute_result"
    }
   ],
   "source": [
    "# print the graph\n",
    "from IPython.display import Image\n",
    "Image(workflow.get_graph().draw_mermaid_png())"
   ]
  }
 ],
 "metadata": {
  "kernelspec": {
   "display_name": ".venv",
   "language": "python",
   "name": "python3"
  },
  "language_info": {
   "codemirror_mode": {
    "name": "ipython",
    "version": 3
   },
   "file_extension": ".py",
   "mimetype": "text/x-python",
   "name": "python",
   "nbconvert_exporter": "python",
   "pygments_lexer": "ipython3",
   "version": "3.11.11"
  }
 },
 "nbformat": 4,
 "nbformat_minor": 5
}
